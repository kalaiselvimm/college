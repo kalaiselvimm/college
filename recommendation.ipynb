{
 "cells": [
  {
   "cell_type": "code",
   "execution_count": 1,
   "metadata": {},
   "outputs": [],
   "source": [
    "import os,sys\n",
    "import pandas as pd\n",
    "import numpy as np\n",
    "import pandas as pd\n",
    "\n",
    "#importing for plotting the graphs\n",
    "import matplotlib.pyplot as plt \n",
    "import seaborn as sns \n",
    "\n",
    "# Download NLP Toolkit for \n",
    "import nltk \n",
    "\n",
    "#using Beautiful Soup for filtering Html tags\n",
    "from bs4 import BeautifulSoup\n",
    "\n",
    "from sklearn.model_selection import train_test_split\n",
    "\n",
    "# Import the stop word list and text data sets, including stop words\n",
    "from nltk.corpus import stopwords\n",
    "#'i', 'me', 'my', 'myself', 'we', 'our', 'ours', 'ourselves', 'you', \"you're\",\n",
    "from nltk.tokenize import WordPunctTokenizer\n",
    "\n",
    "from wordcloud import WordCloud, STOPWORDS\n"
   ]
  },
  {
   "cell_type": "code",
   "execution_count": 2,
   "metadata": {},
   "outputs": [],
   "source": [
    "#Reading the dataset using the \"read_csv\" function to read the labeled data\n",
    "\n",
    "data = pd.read_csv(\"Engineering College review dataset - sheet3.csv\")"
   ]
  },
  {
   "cell_type": "code",
   "execution_count": 3,
   "metadata": {},
   "outputs": [
    {
     "name": "stdout",
     "output_type": "stream",
     "text": [
      "Index(['College_Name', 'Reviews', 'Rating', 'Review Votes'], dtype='object')\n",
      "(661, 4)\n"
     ]
    }
   ],
   "source": [
    "print(data.columns)\n",
    "print(data.shape)"
   ]
  },
  {
   "cell_type": "code",
   "execution_count": 4,
   "metadata": {},
   "outputs": [
    {
     "data": {
      "text/html": [
       "<div>\n",
       "<style scoped>\n",
       "    .dataframe tbody tr th:only-of-type {\n",
       "        vertical-align: middle;\n",
       "    }\n",
       "\n",
       "    .dataframe tbody tr th {\n",
       "        vertical-align: top;\n",
       "    }\n",
       "\n",
       "    .dataframe thead th {\n",
       "        text-align: right;\n",
       "    }\n",
       "</style>\n",
       "<table border=\"1\" class=\"dataframe\">\n",
       "  <thead>\n",
       "    <tr style=\"text-align: right;\">\n",
       "      <th></th>\n",
       "      <th>College_Name</th>\n",
       "      <th>Reviews</th>\n",
       "      <th>Rating</th>\n",
       "      <th>Review Votes</th>\n",
       "    </tr>\n",
       "  </thead>\n",
       "  <tbody>\n",
       "    <tr>\n",
       "      <th>0</th>\n",
       "      <td>Pondicherry Engineering College</td>\n",
       "      <td>The best central University</td>\n",
       "      <td>5</td>\n",
       "      <td>0</td>\n",
       "    </tr>\n",
       "    <tr>\n",
       "      <th>1</th>\n",
       "      <td>Pondicherry Engineering College</td>\n",
       "      <td>Parking facility \\nNature is good here\\nCantee...</td>\n",
       "      <td>5</td>\n",
       "      <td>1</td>\n",
       "    </tr>\n",
       "    <tr>\n",
       "      <th>2</th>\n",
       "      <td>Pondicherry Engineering College</td>\n",
       "      <td>Pondicherry Engineering College (or PEC) is an...</td>\n",
       "      <td>5</td>\n",
       "      <td>2</td>\n",
       "    </tr>\n",
       "    <tr>\n",
       "      <th>3</th>\n",
       "      <td>Pondicherry Engineering College</td>\n",
       "      <td>Wonderful location good coaching..</td>\n",
       "      <td>4</td>\n",
       "      <td>0</td>\n",
       "    </tr>\n",
       "    <tr>\n",
       "      <th>4</th>\n",
       "      <td>Pondicherry Engineering College</td>\n",
       "      <td>One best engineering college in Pondicherry. I...</td>\n",
       "      <td>5</td>\n",
       "      <td>4</td>\n",
       "    </tr>\n",
       "  </tbody>\n",
       "</table>\n",
       "</div>"
      ],
      "text/plain": [
       "                      College_Name  \\\n",
       "0  Pondicherry Engineering College   \n",
       "1  Pondicherry Engineering College   \n",
       "2  Pondicherry Engineering College   \n",
       "3  Pondicherry Engineering College   \n",
       "4  Pondicherry Engineering College   \n",
       "\n",
       "                                             Reviews  Rating  Review Votes  \n",
       "0                        The best central University       5             0  \n",
       "1  Parking facility \\nNature is good here\\nCantee...       5             1  \n",
       "2  Pondicherry Engineering College (or PEC) is an...       5             2  \n",
       "3                 Wonderful location good coaching..       4             0  \n",
       "4  One best engineering college in Pondicherry. I...       5             4  "
      ]
     },
     "execution_count": 4,
     "metadata": {},
     "output_type": "execute_result"
    }
   ],
   "source": [
    "data.head()"
   ]
  },
  {
   "cell_type": "code",
   "execution_count": 5,
   "metadata": {},
   "outputs": [
    {
     "name": "stdout",
     "output_type": "stream",
     "text": [
      "12\n"
     ]
    }
   ],
   "source": [
    "colleges = []\n",
    "for item in data[\"College_Name\"]:\n",
    "    if (item in colleges):\n",
    "        continue\n",
    "    else:\n",
    "        colleges.append(item)\n",
    "        \n",
    "print(len(colleges))"
   ]
  },
  {
   "cell_type": "markdown",
   "metadata": {},
   "source": [
    "There are 12 engineering colleges in this data set"
   ]
  },
  {
   "cell_type": "code",
   "execution_count": 6,
   "metadata": {},
   "outputs": [
    {
     "data": {
      "text/plain": [
       "Sri Manakula Vinayagar Engineering College                    268\n",
       "Manakula Vinayagar Institute of Technology                    199\n",
       "Pondicherry Engineering College                                48\n",
       "Rajiv Gandhi College of Engineering and Technology             40\n",
       "Christ College of Engineering and Technology                   20\n",
       "Dr Pauls Engineering Colleges                                  16\n",
       "Sri Venkateshwara College of Engineering and Technology        15\n",
       "Sri Ganesh College of Engineering and Technology ( SGCET )     14\n",
       "Achariya College Of Engineering And Technology                 14\n",
       "Alpha College Of Engineering And Technology                    13\n",
       "Raak College of Engineering and Technology                      8\n",
       "Shri Krishnaa College of Engineering and Technology             6\n",
       "Name: College_Name, dtype: int64"
      ]
     },
     "execution_count": 6,
     "metadata": {},
     "output_type": "execute_result"
    }
   ],
   "source": [
    "data[\"College_Name\"].value_counts()"
   ]
  },
  {
   "cell_type": "code",
   "execution_count": 7,
   "metadata": {},
   "outputs": [
    {
     "data": {
      "text/plain": [
       "<matplotlib.axes._subplots.AxesSubplot at 0x11b1796d8>"
      ]
     },
     "execution_count": 7,
     "metadata": {},
     "output_type": "execute_result"
    },
    {
     "data": {
      "image/png": "[encoded data removed]",
      "text/plain": [
       "<Figure size 432x288 with 1 Axes>"
      ]
     },
     "metadata": {
      "needs_background": "light"
     },
     "output_type": "display_data"
    }
   ],
   "source": [
    "sns.countplot(data=data, y='College_Name')"
   ]
  },
  {
   "cell_type": "code",
   "execution_count": 8,
   "metadata": {},
   "outputs": [
    {
     "data": {
      "text/plain": [
       "<matplotlib.axes._subplots.AxesSubplot at 0x11b20ae80>"
      ]
     },
     "execution_count": 8,
     "metadata": {},
     "output_type": "execute_result"
    },
    {
     "data": {
      "image/png": "[encoded data removed]",
      "text/plain": [
       "<Figure size 432x288 with 1 Axes>"
      ]
     },
     "metadata": {
      "needs_background": "light"
     },
     "output_type": "display_data"
    }
   ],
   "source": [
    "sns.countplot(data=data, x='Rating')"
   ]
  },
  {
   "cell_type": "code",
   "execution_count": 9,
   "metadata": {},
   "outputs": [
    {
     "data": {
      "text/plain": [
       "(661, 4)"
      ]
     },
     "execution_count": 9,
     "metadata": {},
     "output_type": "execute_result"
    }
   ],
   "source": [
    "#identifying the number of columns and rows present in the data\n",
    "\n",
    "data.shape"
   ]
  },
  {
   "cell_type": "code",
   "execution_count": 10,
   "metadata": {},
   "outputs": [
    {
     "name": "stdout",
     "output_type": "stream",
     "text": [
      "                      College_Name  \\\n",
      "0  Pondicherry Engineering College   \n",
      "1  Pondicherry Engineering College   \n",
      "2  Pondicherry Engineering College   \n",
      "3  Pondicherry Engineering College   \n",
      "4  Pondicherry Engineering College   \n",
      "5  Pondicherry Engineering College   \n",
      "6  Pondicherry Engineering College   \n",
      "7  Pondicherry Engineering College   \n",
      "8  Pondicherry Engineering College   \n",
      "9  Pondicherry Engineering College   \n",
      "\n",
      "                                             Reviews  Rating  Review Votes  \n",
      "0                        The best central University       5             0  \n",
      "1  Parking facility \\nNature is good here\\nCantee...       5             1  \n",
      "2  Pondicherry Engineering College (or PEC) is an...       5             2  \n",
      "3                 Wonderful location good coaching..       4             0  \n",
      "4  One best engineering college in Pondicherry. I...       5             4  \n",
      "5                 Nice place for learning technology       5             0  \n",
      "6  It is one of the best colleges in Puducherry. ...       4             9  \n",
      "7  Only the best engineering college in pondicher...       5             1  \n",
      "8  one of the best colleges...you are the master ...       5             0  \n",
      "9                                 An awesome campus        4             1  \n"
     ]
    }
   ],
   "source": [
    "# Creating a DataFrame by passing the dataset object to be converted to series-like for data-cleaning and\n",
    "# pre-processsing\n",
    "\n",
    "data_df = pd.DataFrame(data)\n",
    "\n",
    "print(data_df.head(10))"
   ]
  },
  {
   "cell_type": "code",
   "execution_count": 11,
   "metadata": {},
   "outputs": [],
   "source": [
    "import warnings\n",
    "warnings.filterwarnings('ignore')\n",
    "\n",
    "data_df = data_df[pd.notnull(data_df['Reviews'])] \n",
    "\n",
    "data_df['Review Votes'].replace(\"\", 0, inplace=True )\n",
    "\n",
    "data_df['College_Name'] = data_df.ix[~(data_df['College_Name'] == \"\")]"
   ]
  },
  {
   "cell_type": "code",
   "execution_count": 12,
   "metadata": {},
   "outputs": [
    {
     "data": {
      "text/plain": [
       "False"
      ]
     },
     "execution_count": 12,
     "metadata": {},
     "output_type": "execute_result"
    }
   ],
   "source": [
    "#check if we have any null reviews in our dataframe after the data cleaning\n",
    "\n",
    "data_df['Reviews'].isnull().any()"
   ]
  },
  {
   "cell_type": "code",
   "execution_count": 13,
   "metadata": {},
   "outputs": [],
   "source": [
    "#reset_index to drop the existing index and replace with new index\n",
    "\n",
    "data_df.reset_index(drop=True, inplace=True)"
   ]
  },
  {
   "cell_type": "code",
   "execution_count": 14,
   "metadata": {},
   "outputs": [
    {
     "name": "stdout",
     "output_type": "stream",
     "text": [
      "                      College_Name  \\\n",
      "0  Pondicherry Engineering College   \n",
      "1  Pondicherry Engineering College   \n",
      "2  Pondicherry Engineering College   \n",
      "3  Pondicherry Engineering College   \n",
      "4  Pondicherry Engineering College   \n",
      "5  Pondicherry Engineering College   \n",
      "6  Pondicherry Engineering College   \n",
      "7  Pondicherry Engineering College   \n",
      "8  Pondicherry Engineering College   \n",
      "9  Pondicherry Engineering College   \n",
      "\n",
      "                                             Reviews  Rating  Review Votes  \n",
      "0                        The best central University       5             0  \n",
      "1  Parking facility \\nNature is good here\\nCantee...       5             1  \n",
      "2  Pondicherry Engineering College (or PEC) is an...       5             2  \n",
      "3                 Wonderful location good coaching..       4             0  \n",
      "4  One best engineering college in Pondicherry. I...       5             4  \n",
      "5                 Nice place for learning technology       5             0  \n",
      "6  It is one of the best colleges in Puducherry. ...       4             9  \n",
      "7  Only the best engineering college in pondicher...       5             1  \n",
      "8  one of the best colleges...you are the master ...       5             0  \n",
      "9                                 An awesome campus        4             1  \n"
     ]
    }
   ],
   "source": [
    "#displaying the data with new index\n",
    "\n",
    "print (data_df.head(10))"
   ]
  },
  {
   "cell_type": "code",
   "execution_count": 15,
   "metadata": {},
   "outputs": [
    {
     "data": {
      "text/html": [
       "<div>\n",
       "<style scoped>\n",
       "    .dataframe tbody tr th:only-of-type {\n",
       "        vertical-align: middle;\n",
       "    }\n",
       "\n",
       "    .dataframe tbody tr th {\n",
       "        vertical-align: top;\n",
       "    }\n",
       "\n",
       "    .dataframe thead tr th {\n",
       "        text-align: left;\n",
       "    }\n",
       "\n",
       "    .dataframe thead tr:last-of-type th {\n",
       "        text-align: right;\n",
       "    }\n",
       "</style>\n",
       "<table border=\"1\" class=\"dataframe\">\n",
       "  <thead>\n",
       "    <tr>\n",
       "      <th></th>\n",
       "      <th colspan=\"2\" halign=\"left\">sum</th>\n",
       "      <th colspan=\"2\" halign=\"left\">mean</th>\n",
       "    </tr>\n",
       "    <tr>\n",
       "      <th></th>\n",
       "      <th>Rating</th>\n",
       "      <th>Review Votes</th>\n",
       "      <th>Rating</th>\n",
       "      <th>Review Votes</th>\n",
       "    </tr>\n",
       "    <tr>\n",
       "      <th>College_Name</th>\n",
       "      <th></th>\n",
       "      <th></th>\n",
       "      <th></th>\n",
       "      <th></th>\n",
       "    </tr>\n",
       "  </thead>\n",
       "  <tbody>\n",
       "    <tr>\n",
       "      <th>Sri Manakula Vinayagar Engineering College</th>\n",
       "      <td>1216</td>\n",
       "      <td>1915</td>\n",
       "      <td>4.537313</td>\n",
       "      <td>7.145522</td>\n",
       "    </tr>\n",
       "    <tr>\n",
       "      <th>Manakula Vinayagar Institute of Technology</th>\n",
       "      <td>786</td>\n",
       "      <td>116</td>\n",
       "      <td>3.949749</td>\n",
       "      <td>0.582915</td>\n",
       "    </tr>\n",
       "    <tr>\n",
       "      <th>Pondicherry Engineering College</th>\n",
       "      <td>212</td>\n",
       "      <td>50</td>\n",
       "      <td>4.416667</td>\n",
       "      <td>1.041667</td>\n",
       "    </tr>\n",
       "    <tr>\n",
       "      <th>Rajiv Gandhi College of Engineering and Technology</th>\n",
       "      <td>123</td>\n",
       "      <td>299</td>\n",
       "      <td>3.075000</td>\n",
       "      <td>7.475000</td>\n",
       "    </tr>\n",
       "    <tr>\n",
       "      <th>Christ College of Engineering and Technology</th>\n",
       "      <td>69</td>\n",
       "      <td>14</td>\n",
       "      <td>3.450000</td>\n",
       "      <td>0.700000</td>\n",
       "    </tr>\n",
       "    <tr>\n",
       "      <th>Sri Venkateshwara College of Engineering and Technology</th>\n",
       "      <td>65</td>\n",
       "      <td>19</td>\n",
       "      <td>4.333333</td>\n",
       "      <td>1.266667</td>\n",
       "    </tr>\n",
       "    <tr>\n",
       "      <th>Achariya College Of Engineering And Technology</th>\n",
       "      <td>54</td>\n",
       "      <td>18</td>\n",
       "      <td>3.857143</td>\n",
       "      <td>1.285714</td>\n",
       "    </tr>\n",
       "    <tr>\n",
       "      <th>Alpha College Of Engineering And Technology</th>\n",
       "      <td>45</td>\n",
       "      <td>13</td>\n",
       "      <td>3.461538</td>\n",
       "      <td>1.000000</td>\n",
       "    </tr>\n",
       "    <tr>\n",
       "      <th>Dr Pauls Engineering Colleges</th>\n",
       "      <td>38</td>\n",
       "      <td>11</td>\n",
       "      <td>2.375000</td>\n",
       "      <td>0.687500</td>\n",
       "    </tr>\n",
       "    <tr>\n",
       "      <th>Raak College of Engineering and Technology</th>\n",
       "      <td>34</td>\n",
       "      <td>8</td>\n",
       "      <td>4.250000</td>\n",
       "      <td>1.000000</td>\n",
       "    </tr>\n",
       "  </tbody>\n",
       "</table>\n",
       "</div>"
      ],
      "text/plain": [
       "                                                      sum               \\\n",
       "                                                   Rating Review Votes   \n",
       "College_Name                                                             \n",
       "Sri Manakula Vinayagar Engineering College           1216         1915   \n",
       "Manakula Vinayagar Institute of Technology            786          116   \n",
       "Pondicherry Engineering College                       212           50   \n",
       "Rajiv Gandhi College of Engineering and Technology    123          299   \n",
       "Christ College of Engineering and Technology           69           14   \n",
       "Sri Venkateshwara College of Engineering and Te...     65           19   \n",
       "Achariya College Of Engineering And Technology         54           18   \n",
       "Alpha College Of Engineering And Technology            45           13   \n",
       "Dr Pauls Engineering Colleges                          38           11   \n",
       "Raak College of Engineering and Technology             34            8   \n",
       "\n",
       "                                                        mean               \n",
       "                                                      Rating Review Votes  \n",
       "College_Name                                                               \n",
       "Sri Manakula Vinayagar Engineering College          4.537313     7.145522  \n",
       "Manakula Vinayagar Institute of Technology          3.949749     0.582915  \n",
       "Pondicherry Engineering College                     4.416667     1.041667  \n",
       "Rajiv Gandhi College of Engineering and Technology  3.075000     7.475000  \n",
       "Christ College of Engineering and Technology        3.450000     0.700000  \n",
       "Sri Venkateshwara College of Engineering and Te...  4.333333     1.266667  \n",
       "Achariya College Of Engineering And Technology      3.857143     1.285714  \n",
       "Alpha College Of Engineering And Technology         3.461538     1.000000  \n",
       "Dr Pauls Engineering Colleges                       2.375000     0.687500  \n",
       "Raak College of Engineering and Technology          4.250000     1.000000  "
      ]
     },
     "execution_count": 15,
     "metadata": {},
     "output_type": "execute_result"
    }
   ],
   "source": [
    "top = pd.pivot_table(data_df,index=['College_Name'],values=['Rating', 'Review Votes'],\n",
    "               columns=[],aggfunc=[np.sum, np.mean],fill_value=0)\n",
    "top = top.sort_values(by=('sum', 'Rating'), ascending = False)\n",
    "\n",
    "top.head(10)"
   ]
  },
  {
   "cell_type": "markdown",
   "metadata": {},
   "source": [
    "Top 10 colleges in the data set sorted on the basis of sum of Ratings."
   ]
  },
  {
   "cell_type": "code",
   "execution_count": 16,
   "metadata": {},
   "outputs": [
    {
     "data": {
      "text/plain": [
       "Text(0.5, 1.0, 'Reviews')"
      ]
     },
     "execution_count": 16,
     "metadata": {},
     "output_type": "execute_result"
    },
    {
     "data": {
      "image/png": "[encoded data removed]",
      "text/plain": [
       "<Figure size 432x288 with 1 Axes>"
      ]
     },
     "metadata": {
      "needs_background": "light"
     },
     "output_type": "display_data"
    }
   ],
   "source": [
    "stopwords = set(STOPWORDS)\n",
    "wordcloud = WordCloud(\n",
    "                          background_color='gray',\n",
    "                          stopwords=stopwords,\n",
    "                          max_words=200,\n",
    "                          max_font_size=40, \n",
    "                          random_state=42\n",
    "                         ).generate(str(data['Reviews']))\n",
    "plt.imshow(wordcloud)\n",
    "plt.axis('off')\n",
    "plt.title('Reviews')"
   ]
  },
  {
   "cell_type": "code",
   "execution_count": 17,
   "metadata": {},
   "outputs": [],
   "source": [
    "college_train, college_test =  train_test_split(data_df, test_size = .2, random_state=0)"
   ]
  },
  {
   "cell_type": "code",
   "execution_count": 18,
   "metadata": {},
   "outputs": [],
   "source": [
    "import warnings\n",
    "warnings.filterwarnings('ignore')\n",
    "\n",
    "reviews_train = []\n",
    "\n",
    "#coverting all the data within the review column to string datatypes\n",
    "college_train['Reviews'] = college_train['Reviews'].astype(str)\n"
   ]
  },
  {
   "cell_type": "code",
   "execution_count": 19,
   "metadata": {},
   "outputs": [],
   "source": [
    "#reset_index to drop the existing index and replace with new index\n",
    "\n",
    "college_train.reset_index(drop=True, inplace=True)"
   ]
  },
  {
   "cell_type": "code",
   "execution_count": 20,
   "metadata": {},
   "outputs": [],
   "source": [
    "#using BeautifulSoup to remove all the html tags that might be present in the review column of the amazon_train dataframe\n",
    "for i in range (0,len(college_train)):\n",
    "   reviews_train.append(BeautifulSoup(college_train[\"Reviews\"][i],\"lxml\").get_text())"
   ]
  },
  {
   "cell_type": "code",
   "execution_count": 21,
   "metadata": {},
   "outputs": [
    {
     "name": "stdout",
     "output_type": "stream",
     "text": [
      "Good infrastructure with well established laboratories, Highly qualified and experienced faculties, excellent placement\n"
     ]
    }
   ],
   "source": [
    "print(reviews_train[1])"
   ]
  },
  {
   "cell_type": "markdown",
   "metadata": {},
   "source": [
    "NLTK function to find sentiment value and sentiment."
   ]
  },
  {
   "cell_type": "code",
   "execution_count": 22,
   "metadata": {},
   "outputs": [],
   "source": [
    "\n",
    "from nltk.sentiment.vader import SentimentIntensityAnalyzer\n",
    "def sentiment_value(paragraph):\n",
    "    analyser = SentimentIntensityAnalyzer()\n",
    "    result = analyser.polarity_scores(paragraph)\n",
    "    score = result['compound']\n",
    "    return round(score,1)\n"
   ]
  },
  {
   "cell_type": "code",
   "execution_count": 23,
   "metadata": {},
   "outputs": [
    {
     "name": "stderr",
     "output_type": "stream",
     "text": [
      "[nltk_data] Downloading package vader_lexicon to\n",
      "[nltk_data]     /Users/yosnalab/nltk_data...\n",
      "[nltk_data]   Package vader_lexicon is already up-to-date!\n"
     ]
    },
    {
     "data": {
      "text/plain": [
       "True"
      ]
     },
     "execution_count": 23,
     "metadata": {},
     "output_type": "execute_result"
    }
   ],
   "source": [
    "import nltk\n",
    "nltk.downloader.download('vader_lexicon')"
   ]
  },
  {
   "cell_type": "code",
   "execution_count": 24,
   "metadata": {},
   "outputs": [
    {
     "name": "stdout",
     "output_type": "stream",
     "text": [
      "Very good college with good atmosphere and infrastructure ........good placement records.......good teaching ........well trained staffs........😊😊😊\n",
      "Sentiment: \n",
      "0.7\n"
     ]
    }
   ],
   "source": [
    "sample = college_train['Reviews'][50]\n",
    "print(sample)\n",
    "print('Sentiment: ')\n",
    "print(sentiment_value(sample))"
   ]
  },
  {
   "cell_type": "code",
   "execution_count": 25,
   "metadata": {},
   "outputs": [],
   "source": [
    "all_sent_values = []\n",
    "all_sentiments = []"
   ]
  },
  {
   "cell_type": "code",
   "execution_count": 26,
   "metadata": {},
   "outputs": [],
   "source": [
    "#for i in range(0,661):\n",
    "\n",
    "for i in range(0,len(college_train['Reviews'])): \n",
    "    all_sent_values.append(sentiment_value(reviews_train[i])) # 8 minutes for calculation\n"
   ]
  },
  {
   "cell_type": "code",
   "execution_count": 27,
   "metadata": {},
   "outputs": [
    {
     "data": {
      "text/plain": [
       "528"
      ]
     },
     "execution_count": 27,
     "metadata": {},
     "output_type": "execute_result"
    }
   ],
   "source": [
    "len(all_sent_values)"
   ]
  },
  {
   "cell_type": "code",
   "execution_count": 28,
   "metadata": {},
   "outputs": [],
   "source": [
    "temp_data = data_df[0:len(college_train['Reviews'])]"
   ]
  },
  {
   "cell_type": "code",
   "execution_count": 29,
   "metadata": {},
   "outputs": [],
   "source": [
    "SENTIMENT_VALUE = []\n",
    "SENTIMENT = []\n",
    "for i in range(0,len(college_train['Reviews'])):\n",
    "    sent = all_sent_values[i]\n",
    "    if (sent<=1 and sent>=0.5):\n",
    "        SENTIMENT.append('V.Positive')\n",
    "        SENTIMENT_VALUE.append(5)\n",
    "    elif (sent<0.5 and sent>0):\n",
    "        SENTIMENT.append('Positive')\n",
    "        SENTIMENT_VALUE.append(4)\n",
    "    elif (sent==0):\n",
    "        SENTIMENT.append('Neutral')\n",
    "        SENTIMENT_VALUE.append(3)\n",
    "    elif (sent<0 and sent>=-0.5):\n",
    "        SENTIMENT.append('Negative')\n",
    "        SENTIMENT_VALUE.append(2)\n",
    "    else:\n",
    "        SENTIMENT.append('V.Negative')\n",
    "        SENTIMENT_VALUE.append(1)\n"
   ]
  },
  {
   "cell_type": "code",
   "execution_count": 30,
   "metadata": {},
   "outputs": [],
   "source": [
    "temp_data['SENTIMENT_VALUE'] = SENTIMENT_VALUE\n",
    "temp_data['SENTIMENT'] = SENTIMENT"
   ]
  },
  {
   "cell_type": "code",
   "execution_count": 31,
   "metadata": {},
   "outputs": [
    {
     "data": {
      "text/html": [
       "<div>\n",
       "<style scoped>\n",
       "    .dataframe tbody tr th:only-of-type {\n",
       "        vertical-align: middle;\n",
       "    }\n",
       "\n",
       "    .dataframe tbody tr th {\n",
       "        vertical-align: top;\n",
       "    }\n",
       "\n",
       "    .dataframe thead th {\n",
       "        text-align: right;\n",
       "    }\n",
       "</style>\n",
       "<table border=\"1\" class=\"dataframe\">\n",
       "  <thead>\n",
       "    <tr style=\"text-align: right;\">\n",
       "      <th></th>\n",
       "      <th>College_Name</th>\n",
       "      <th>Reviews</th>\n",
       "      <th>Rating</th>\n",
       "      <th>Review Votes</th>\n",
       "      <th>SENTIMENT_VALUE</th>\n",
       "      <th>SENTIMENT</th>\n",
       "    </tr>\n",
       "  </thead>\n",
       "  <tbody>\n",
       "    <tr>\n",
       "      <th>0</th>\n",
       "      <td>Pondicherry Engineering College</td>\n",
       "      <td>The best central University</td>\n",
       "      <td>5</td>\n",
       "      <td>0</td>\n",
       "      <td>4</td>\n",
       "      <td>Positive</td>\n",
       "    </tr>\n",
       "    <tr>\n",
       "      <th>1</th>\n",
       "      <td>Pondicherry Engineering College</td>\n",
       "      <td>Parking facility \\nNature is good here\\nCantee...</td>\n",
       "      <td>5</td>\n",
       "      <td>1</td>\n",
       "      <td>5</td>\n",
       "      <td>V.Positive</td>\n",
       "    </tr>\n",
       "    <tr>\n",
       "      <th>2</th>\n",
       "      <td>Pondicherry Engineering College</td>\n",
       "      <td>Pondicherry Engineering College (or PEC) is an...</td>\n",
       "      <td>5</td>\n",
       "      <td>2</td>\n",
       "      <td>5</td>\n",
       "      <td>V.Positive</td>\n",
       "    </tr>\n",
       "    <tr>\n",
       "      <th>3</th>\n",
       "      <td>Pondicherry Engineering College</td>\n",
       "      <td>Wonderful location good coaching..</td>\n",
       "      <td>4</td>\n",
       "      <td>0</td>\n",
       "      <td>3</td>\n",
       "      <td>Neutral</td>\n",
       "    </tr>\n",
       "    <tr>\n",
       "      <th>4</th>\n",
       "      <td>Pondicherry Engineering College</td>\n",
       "      <td>One best engineering college in Pondicherry. I...</td>\n",
       "      <td>5</td>\n",
       "      <td>4</td>\n",
       "      <td>5</td>\n",
       "      <td>V.Positive</td>\n",
       "    </tr>\n",
       "    <tr>\n",
       "      <th>5</th>\n",
       "      <td>Pondicherry Engineering College</td>\n",
       "      <td>Nice place for learning technology</td>\n",
       "      <td>5</td>\n",
       "      <td>0</td>\n",
       "      <td>5</td>\n",
       "      <td>V.Positive</td>\n",
       "    </tr>\n",
       "    <tr>\n",
       "      <th>6</th>\n",
       "      <td>Pondicherry Engineering College</td>\n",
       "      <td>It is one of the best colleges in Puducherry. ...</td>\n",
       "      <td>4</td>\n",
       "      <td>9</td>\n",
       "      <td>5</td>\n",
       "      <td>V.Positive</td>\n",
       "    </tr>\n",
       "    <tr>\n",
       "      <th>7</th>\n",
       "      <td>Pondicherry Engineering College</td>\n",
       "      <td>Only the best engineering college in pondicher...</td>\n",
       "      <td>5</td>\n",
       "      <td>1</td>\n",
       "      <td>4</td>\n",
       "      <td>Positive</td>\n",
       "    </tr>\n",
       "    <tr>\n",
       "      <th>8</th>\n",
       "      <td>Pondicherry Engineering College</td>\n",
       "      <td>one of the best colleges...you are the master ...</td>\n",
       "      <td>5</td>\n",
       "      <td>0</td>\n",
       "      <td>5</td>\n",
       "      <td>V.Positive</td>\n",
       "    </tr>\n",
       "    <tr>\n",
       "      <th>9</th>\n",
       "      <td>Pondicherry Engineering College</td>\n",
       "      <td>An awesome campus</td>\n",
       "      <td>4</td>\n",
       "      <td>1</td>\n",
       "      <td>2</td>\n",
       "      <td>Negative</td>\n",
       "    </tr>\n",
       "  </tbody>\n",
       "</table>\n",
       "</div>"
      ],
      "text/plain": [
       "                      College_Name  \\\n",
       "0  Pondicherry Engineering College   \n",
       "1  Pondicherry Engineering College   \n",
       "2  Pondicherry Engineering College   \n",
       "3  Pondicherry Engineering College   \n",
       "4  Pondicherry Engineering College   \n",
       "5  Pondicherry Engineering College   \n",
       "6  Pondicherry Engineering College   \n",
       "7  Pondicherry Engineering College   \n",
       "8  Pondicherry Engineering College   \n",
       "9  Pondicherry Engineering College   \n",
       "\n",
       "                                             Reviews  Rating  Review Votes  \\\n",
       "0                        The best central University       5             0   \n",
       "1  Parking facility \\nNature is good here\\nCantee...       5             1   \n",
       "2  Pondicherry Engineering College (or PEC) is an...       5             2   \n",
       "3                 Wonderful location good coaching..       4             0   \n",
       "4  One best engineering college in Pondicherry. I...       5             4   \n",
       "5                 Nice place for learning technology       5             0   \n",
       "6  It is one of the best colleges in Puducherry. ...       4             9   \n",
       "7  Only the best engineering college in pondicher...       5             1   \n",
       "8  one of the best colleges...you are the master ...       5             0   \n",
       "9                                 An awesome campus        4             1   \n",
       "\n",
       "   SENTIMENT_VALUE   SENTIMENT  \n",
       "0                4    Positive  \n",
       "1                5  V.Positive  \n",
       "2                5  V.Positive  \n",
       "3                3     Neutral  \n",
       "4                5  V.Positive  \n",
       "5                5  V.Positive  \n",
       "6                5  V.Positive  \n",
       "7                4    Positive  \n",
       "8                5  V.Positive  \n",
       "9                2    Negative  "
      ]
     },
     "execution_count": 31,
     "metadata": {},
     "output_type": "execute_result"
    }
   ],
   "source": [
    "temp_data.head(10)"
   ]
  },
  {
   "cell_type": "code",
   "execution_count": 32,
   "metadata": {},
   "outputs": [
    {
     "name": "stdout",
     "output_type": "stream",
     "text": [
      "180\n"
     ]
    }
   ],
   "source": [
    "#find accuracy\n",
    "counter = 0\n",
    "for i in range(0,len(college_train['Reviews'])):\n",
    "    if (abs(temp_data['Rating'][i]-temp_data['SENTIMENT_VALUE'][i])>1):\n",
    "        counter += 1\n",
    "    \n",
    "print(counter)"
   ]
  },
  {
   "cell_type": "code",
   "execution_count": 33,
   "metadata": {},
   "outputs": [
    {
     "name": "stdout",
     "output_type": "stream",
     "text": [
      "65.9090909090909\n"
     ]
    }
   ],
   "source": [
    "accuracy = (temp_data.shape[0]-counter)/temp_data.shape[0]\n",
    "\n",
    "percent_accuracy = accuracy*100\n",
    "\n",
    "print(percent_accuracy)\n"
   ]
  },
  {
   "cell_type": "code",
   "execution_count": 34,
   "metadata": {},
   "outputs": [
    {
     "data": {
      "text/plain": [
       "12"
      ]
     },
     "execution_count": 34,
     "metadata": {},
     "output_type": "execute_result"
    }
   ],
   "source": [
    "product_name = []\n",
    "for item in temp_data[\"College_Name\"]:\n",
    "    if (item in product_name):\n",
    "        continue\n",
    "    else:\n",
    "        product_name.append(item)\n",
    "        \n",
    "len(product_name)"
   ]
  },
  {
   "cell_type": "code",
   "execution_count": 35,
   "metadata": {},
   "outputs": [
    {
     "data": {
      "text/html": [
       "<div>\n",
       "<style scoped>\n",
       "    .dataframe tbody tr th:only-of-type {\n",
       "        vertical-align: middle;\n",
       "    }\n",
       "\n",
       "    .dataframe tbody tr th {\n",
       "        vertical-align: top;\n",
       "    }\n",
       "\n",
       "    .dataframe thead tr th {\n",
       "        text-align: left;\n",
       "    }\n",
       "\n",
       "    .dataframe thead tr:last-of-type th {\n",
       "        text-align: right;\n",
       "    }\n",
       "</style>\n",
       "<table border=\"1\" class=\"dataframe\">\n",
       "  <thead>\n",
       "    <tr>\n",
       "      <th></th>\n",
       "      <th colspan=\"3\" halign=\"left\">sum</th>\n",
       "      <th colspan=\"3\" halign=\"left\">mean</th>\n",
       "    </tr>\n",
       "    <tr>\n",
       "      <th></th>\n",
       "      <th>Rating</th>\n",
       "      <th>Review Votes</th>\n",
       "      <th>SENTIMENT_VALUE</th>\n",
       "      <th>Rating</th>\n",
       "      <th>Review Votes</th>\n",
       "      <th>SENTIMENT_VALUE</th>\n",
       "    </tr>\n",
       "    <tr>\n",
       "      <th>College_Name</th>\n",
       "      <th></th>\n",
       "      <th></th>\n",
       "      <th></th>\n",
       "      <th></th>\n",
       "      <th></th>\n",
       "      <th></th>\n",
       "    </tr>\n",
       "  </thead>\n",
       "  <tbody>\n",
       "    <tr>\n",
       "      <th>Sri Manakula Vinayagar Engineering College</th>\n",
       "      <td>1216</td>\n",
       "      <td>1915</td>\n",
       "      <td>1129</td>\n",
       "      <td>4.537313</td>\n",
       "      <td>7.145522</td>\n",
       "      <td>4.212687</td>\n",
       "    </tr>\n",
       "    <tr>\n",
       "      <th>Manakula Vinayagar Institute of Technology</th>\n",
       "      <td>250</td>\n",
       "      <td>47</td>\n",
       "      <td>277</td>\n",
       "      <td>3.787879</td>\n",
       "      <td>0.712121</td>\n",
       "      <td>4.196970</td>\n",
       "    </tr>\n",
       "    <tr>\n",
       "      <th>Pondicherry Engineering College</th>\n",
       "      <td>212</td>\n",
       "      <td>50</td>\n",
       "      <td>210</td>\n",
       "      <td>4.416667</td>\n",
       "      <td>1.041667</td>\n",
       "      <td>4.375000</td>\n",
       "    </tr>\n",
       "    <tr>\n",
       "      <th>Rajiv Gandhi College of Engineering and Technology</th>\n",
       "      <td>123</td>\n",
       "      <td>299</td>\n",
       "      <td>166</td>\n",
       "      <td>3.075000</td>\n",
       "      <td>7.475000</td>\n",
       "      <td>4.150000</td>\n",
       "    </tr>\n",
       "    <tr>\n",
       "      <th>Christ College of Engineering and Technology</th>\n",
       "      <td>69</td>\n",
       "      <td>14</td>\n",
       "      <td>89</td>\n",
       "      <td>3.450000</td>\n",
       "      <td>0.700000</td>\n",
       "      <td>4.450000</td>\n",
       "    </tr>\n",
       "    <tr>\n",
       "      <th>Sri Venkateshwara College of Engineering and Technology</th>\n",
       "      <td>65</td>\n",
       "      <td>19</td>\n",
       "      <td>61</td>\n",
       "      <td>4.333333</td>\n",
       "      <td>1.266667</td>\n",
       "      <td>4.066667</td>\n",
       "    </tr>\n",
       "    <tr>\n",
       "      <th>Achariya College Of Engineering And Technology</th>\n",
       "      <td>54</td>\n",
       "      <td>18</td>\n",
       "      <td>55</td>\n",
       "      <td>3.857143</td>\n",
       "      <td>1.285714</td>\n",
       "      <td>3.928571</td>\n",
       "    </tr>\n",
       "    <tr>\n",
       "      <th>Alpha College Of Engineering And Technology</th>\n",
       "      <td>45</td>\n",
       "      <td>13</td>\n",
       "      <td>54</td>\n",
       "      <td>3.461538</td>\n",
       "      <td>1.000000</td>\n",
       "      <td>4.153846</td>\n",
       "    </tr>\n",
       "    <tr>\n",
       "      <th>Dr Pauls Engineering Colleges</th>\n",
       "      <td>38</td>\n",
       "      <td>11</td>\n",
       "      <td>66</td>\n",
       "      <td>2.375000</td>\n",
       "      <td>0.687500</td>\n",
       "      <td>4.125000</td>\n",
       "    </tr>\n",
       "    <tr>\n",
       "      <th>Raak College of Engineering and Technology</th>\n",
       "      <td>34</td>\n",
       "      <td>8</td>\n",
       "      <td>38</td>\n",
       "      <td>4.250000</td>\n",
       "      <td>1.000000</td>\n",
       "      <td>4.750000</td>\n",
       "    </tr>\n",
       "  </tbody>\n",
       "</table>\n",
       "</div>"
      ],
      "text/plain": [
       "                                                      sum               \\\n",
       "                                                   Rating Review Votes   \n",
       "College_Name                                                             \n",
       "Sri Manakula Vinayagar Engineering College           1216         1915   \n",
       "Manakula Vinayagar Institute of Technology            250           47   \n",
       "Pondicherry Engineering College                       212           50   \n",
       "Rajiv Gandhi College of Engineering and Technology    123          299   \n",
       "Christ College of Engineering and Technology           69           14   \n",
       "Sri Venkateshwara College of Engineering and Te...     65           19   \n",
       "Achariya College Of Engineering And Technology         54           18   \n",
       "Alpha College Of Engineering And Technology            45           13   \n",
       "Dr Pauls Engineering Colleges                          38           11   \n",
       "Raak College of Engineering and Technology             34            8   \n",
       "\n",
       "                                                                        mean  \\\n",
       "                                                   SENTIMENT_VALUE    Rating   \n",
       "College_Name                                                                   \n",
       "Sri Manakula Vinayagar Engineering College                    1129  4.537313   \n",
       "Manakula Vinayagar Institute of Technology                     277  3.787879   \n",
       "Pondicherry Engineering College                                210  4.416667   \n",
       "Rajiv Gandhi College of Engineering and Technology             166  3.075000   \n",
       "Christ College of Engineering and Technology                    89  3.450000   \n",
       "Sri Venkateshwara College of Engineering and Te...              61  4.333333   \n",
       "Achariya College Of Engineering And Technology                  55  3.857143   \n",
       "Alpha College Of Engineering And Technology                     54  3.461538   \n",
       "Dr Pauls Engineering Colleges                                   66  2.375000   \n",
       "Raak College of Engineering and Technology                      38  4.250000   \n",
       "\n",
       "                                                                 \\\n",
       "                                                   Review Votes   \n",
       "College_Name                                                      \n",
       "Sri Manakula Vinayagar Engineering College             7.145522   \n",
       "Manakula Vinayagar Institute of Technology             0.712121   \n",
       "Pondicherry Engineering College                        1.041667   \n",
       "Rajiv Gandhi College of Engineering and Technology     7.475000   \n",
       "Christ College of Engineering and Technology           0.700000   \n",
       "Sri Venkateshwara College of Engineering and Te...     1.266667   \n",
       "Achariya College Of Engineering And Technology         1.285714   \n",
       "Alpha College Of Engineering And Technology            1.000000   \n",
       "Dr Pauls Engineering Colleges                          0.687500   \n",
       "Raak College of Engineering and Technology             1.000000   \n",
       "\n",
       "                                                                    \n",
       "                                                   SENTIMENT_VALUE  \n",
       "College_Name                                                        \n",
       "Sri Manakula Vinayagar Engineering College                4.212687  \n",
       "Manakula Vinayagar Institute of Technology                4.196970  \n",
       "Pondicherry Engineering College                           4.375000  \n",
       "Rajiv Gandhi College of Engineering and Technology        4.150000  \n",
       "Christ College of Engineering and Technology              4.450000  \n",
       "Sri Venkateshwara College of Engineering and Te...        4.066667  \n",
       "Achariya College Of Engineering And Technology            3.928571  \n",
       "Alpha College Of Engineering And Technology               4.153846  \n",
       "Dr Pauls Engineering Colleges                             4.125000  \n",
       "Raak College of Engineering and Technology                4.750000  "
      ]
     },
     "execution_count": 35,
     "metadata": {},
     "output_type": "execute_result"
    }
   ],
   "source": [
    "testing2 = pd.pivot_table(temp_data,index=['College_Name'],values=['Rating', 'Review Votes','SENTIMENT_VALUE'],\n",
    "               columns=[],aggfunc=[np.sum, np.mean],fill_value=0)\n",
    "testing2 = testing2.sort_values(by=('sum', 'Rating'), ascending = False)\n",
    "testing2.head(10)"
   ]
  },
  {
   "cell_type": "code",
   "execution_count": 36,
   "metadata": {},
   "outputs": [
    {
     "data": {
      "text/html": [
       "<div>\n",
       "<style scoped>\n",
       "    .dataframe tbody tr th:only-of-type {\n",
       "        vertical-align: middle;\n",
       "    }\n",
       "\n",
       "    .dataframe tbody tr th {\n",
       "        vertical-align: top;\n",
       "    }\n",
       "\n",
       "    .dataframe thead tr th {\n",
       "        text-align: left;\n",
       "    }\n",
       "\n",
       "    .dataframe thead tr:last-of-type th {\n",
       "        text-align: right;\n",
       "    }\n",
       "</style>\n",
       "<table border=\"1\" class=\"dataframe\">\n",
       "  <thead>\n",
       "    <tr>\n",
       "      <th></th>\n",
       "      <th colspan=\"3\" halign=\"left\">sum</th>\n",
       "      <th colspan=\"3\" halign=\"left\">mean</th>\n",
       "    </tr>\n",
       "    <tr>\n",
       "      <th></th>\n",
       "      <th>Rating</th>\n",
       "      <th>Review Votes</th>\n",
       "      <th>SENTIMENT_VALUE</th>\n",
       "      <th>Rating</th>\n",
       "      <th>Review Votes</th>\n",
       "      <th>SENTIMENT_VALUE</th>\n",
       "    </tr>\n",
       "    <tr>\n",
       "      <th>College_Name</th>\n",
       "      <th></th>\n",
       "      <th></th>\n",
       "      <th></th>\n",
       "      <th></th>\n",
       "      <th></th>\n",
       "      <th></th>\n",
       "    </tr>\n",
       "  </thead>\n",
       "  <tbody>\n",
       "    <tr>\n",
       "      <th>Sri Manakula Vinayagar Engineering College</th>\n",
       "      <td>1216</td>\n",
       "      <td>1915</td>\n",
       "      <td>1129</td>\n",
       "      <td>4.537313</td>\n",
       "      <td>7.145522</td>\n",
       "      <td>4.212687</td>\n",
       "    </tr>\n",
       "    <tr>\n",
       "      <th>Manakula Vinayagar Institute of Technology</th>\n",
       "      <td>250</td>\n",
       "      <td>47</td>\n",
       "      <td>277</td>\n",
       "      <td>3.787879</td>\n",
       "      <td>0.712121</td>\n",
       "      <td>4.196970</td>\n",
       "    </tr>\n",
       "    <tr>\n",
       "      <th>Pondicherry Engineering College</th>\n",
       "      <td>212</td>\n",
       "      <td>50</td>\n",
       "      <td>210</td>\n",
       "      <td>4.416667</td>\n",
       "      <td>1.041667</td>\n",
       "      <td>4.375000</td>\n",
       "    </tr>\n",
       "    <tr>\n",
       "      <th>Rajiv Gandhi College of Engineering and Technology</th>\n",
       "      <td>123</td>\n",
       "      <td>299</td>\n",
       "      <td>166</td>\n",
       "      <td>3.075000</td>\n",
       "      <td>7.475000</td>\n",
       "      <td>4.150000</td>\n",
       "    </tr>\n",
       "    <tr>\n",
       "      <th>Christ College of Engineering and Technology</th>\n",
       "      <td>69</td>\n",
       "      <td>14</td>\n",
       "      <td>89</td>\n",
       "      <td>3.450000</td>\n",
       "      <td>0.700000</td>\n",
       "      <td>4.450000</td>\n",
       "    </tr>\n",
       "    <tr>\n",
       "      <th>Sri Venkateshwara College of Engineering and Technology</th>\n",
       "      <td>65</td>\n",
       "      <td>19</td>\n",
       "      <td>61</td>\n",
       "      <td>4.333333</td>\n",
       "      <td>1.266667</td>\n",
       "      <td>4.066667</td>\n",
       "    </tr>\n",
       "    <tr>\n",
       "      <th>Achariya College Of Engineering And Technology</th>\n",
       "      <td>54</td>\n",
       "      <td>18</td>\n",
       "      <td>55</td>\n",
       "      <td>3.857143</td>\n",
       "      <td>1.285714</td>\n",
       "      <td>3.928571</td>\n",
       "    </tr>\n",
       "    <tr>\n",
       "      <th>Alpha College Of Engineering And Technology</th>\n",
       "      <td>45</td>\n",
       "      <td>13</td>\n",
       "      <td>54</td>\n",
       "      <td>3.461538</td>\n",
       "      <td>1.000000</td>\n",
       "      <td>4.153846</td>\n",
       "    </tr>\n",
       "    <tr>\n",
       "      <th>Dr Pauls Engineering Colleges</th>\n",
       "      <td>38</td>\n",
       "      <td>11</td>\n",
       "      <td>66</td>\n",
       "      <td>2.375000</td>\n",
       "      <td>0.687500</td>\n",
       "      <td>4.125000</td>\n",
       "    </tr>\n",
       "    <tr>\n",
       "      <th>Raak College of Engineering and Technology</th>\n",
       "      <td>34</td>\n",
       "      <td>8</td>\n",
       "      <td>38</td>\n",
       "      <td>4.250000</td>\n",
       "      <td>1.000000</td>\n",
       "      <td>4.750000</td>\n",
       "    </tr>\n",
       "  </tbody>\n",
       "</table>\n",
       "</div>"
      ],
      "text/plain": [
       "                                                      sum               \\\n",
       "                                                   Rating Review Votes   \n",
       "College_Name                                                             \n",
       "Sri Manakula Vinayagar Engineering College           1216         1915   \n",
       "Manakula Vinayagar Institute of Technology            250           47   \n",
       "Pondicherry Engineering College                       212           50   \n",
       "Rajiv Gandhi College of Engineering and Technology    123          299   \n",
       "Christ College of Engineering and Technology           69           14   \n",
       "Sri Venkateshwara College of Engineering and Te...     65           19   \n",
       "Achariya College Of Engineering And Technology         54           18   \n",
       "Alpha College Of Engineering And Technology            45           13   \n",
       "Dr Pauls Engineering Colleges                          38           11   \n",
       "Raak College of Engineering and Technology             34            8   \n",
       "\n",
       "                                                                        mean  \\\n",
       "                                                   SENTIMENT_VALUE    Rating   \n",
       "College_Name                                                                   \n",
       "Sri Manakula Vinayagar Engineering College                    1129  4.537313   \n",
       "Manakula Vinayagar Institute of Technology                     277  3.787879   \n",
       "Pondicherry Engineering College                                210  4.416667   \n",
       "Rajiv Gandhi College of Engineering and Technology             166  3.075000   \n",
       "Christ College of Engineering and Technology                    89  3.450000   \n",
       "Sri Venkateshwara College of Engineering and Te...              61  4.333333   \n",
       "Achariya College Of Engineering And Technology                  55  3.857143   \n",
       "Alpha College Of Engineering And Technology                     54  3.461538   \n",
       "Dr Pauls Engineering Colleges                                   66  2.375000   \n",
       "Raak College of Engineering and Technology                      38  4.250000   \n",
       "\n",
       "                                                                 \\\n",
       "                                                   Review Votes   \n",
       "College_Name                                                      \n",
       "Sri Manakula Vinayagar Engineering College             7.145522   \n",
       "Manakula Vinayagar Institute of Technology             0.712121   \n",
       "Pondicherry Engineering College                        1.041667   \n",
       "Rajiv Gandhi College of Engineering and Technology     7.475000   \n",
       "Christ College of Engineering and Technology           0.700000   \n",
       "Sri Venkateshwara College of Engineering and Te...     1.266667   \n",
       "Achariya College Of Engineering And Technology         1.285714   \n",
       "Alpha College Of Engineering And Technology            1.000000   \n",
       "Dr Pauls Engineering Colleges                          0.687500   \n",
       "Raak College of Engineering and Technology             1.000000   \n",
       "\n",
       "                                                                    \n",
       "                                                   SENTIMENT_VALUE  \n",
       "College_Name                                                        \n",
       "Sri Manakula Vinayagar Engineering College                4.212687  \n",
       "Manakula Vinayagar Institute of Technology                4.196970  \n",
       "Pondicherry Engineering College                           4.375000  \n",
       "Rajiv Gandhi College of Engineering and Technology        4.150000  \n",
       "Christ College of Engineering and Technology              4.450000  \n",
       "Sri Venkateshwara College of Engineering and Te...        4.066667  \n",
       "Achariya College Of Engineering And Technology            3.928571  \n",
       "Alpha College Of Engineering And Technology               4.153846  \n",
       "Dr Pauls Engineering Colleges                             4.125000  \n",
       "Raak College of Engineering and Technology                4.750000  "
      ]
     },
     "execution_count": 36,
     "metadata": {},
     "output_type": "execute_result"
    }
   ],
   "source": [
    "testing3 = pd.pivot_table(temp_data,index=['College_Name'],values=['Rating', 'Review Votes','SENTIMENT_VALUE'],\n",
    "               columns=[],aggfunc=[np.sum, np.mean],fill_value=0)\n",
    "testing3 = testing3.sort_values(by=('sum', 'Rating'), ascending = False)\n",
    "testing3.head(10)"
   ]
  },
  {
   "cell_type": "code",
   "execution_count": null,
   "metadata": {},
   "outputs": [],
   "source": []
  },
  {
   "cell_type": "code",
   "execution_count": null,
   "metadata": {},
   "outputs": [],
   "source": []
  },
  {
   "cell_type": "code",
   "execution_count": null,
   "metadata": {},
   "outputs": [],
   "source": []
  },
  {
   "cell_type": "code",
   "execution_count": null,
   "metadata": {},
   "outputs": [],
   "source": []
  },
  {
   "cell_type": "code",
   "execution_count": null,
   "metadata": {},
   "outputs": [],
   "source": []
  },
  {
   "cell_type": "code",
   "execution_count": null,
   "metadata": {},
   "outputs": [],
   "source": []
  },
  {
   "cell_type": "code",
   "execution_count": null,
   "metadata": {},
   "outputs": [],
   "source": []
  },
  {
   "cell_type": "code",
   "execution_count": null,
   "metadata": {},
   "outputs": [],
   "source": []
  },
  {
   "cell_type": "code",
   "execution_count": null,
   "metadata": {},
   "outputs": [],
   "source": []
  },
  {
   "cell_type": "code",
   "execution_count": null,
   "metadata": {},
   "outputs": [],
   "source": []
  },
  {
   "cell_type": "code",
   "execution_count": null,
   "metadata": {},
   "outputs": [],
   "source": []
  }
 ],
 "metadata": {
  "kernelspec": {
   "display_name": "Python 3",
   "language": "python",
   "name": "python3"
  },
  "language_info": {
   "codemirror_mode": {
    "name": "ipython",
    "version": 3
   },
   "file_extension": ".py",
   "mimetype": "text/x-python",
   "name": "python",
   "nbconvert_exporter": "python",
   "pygments_lexer": "ipython3",
   "version": "3.6.8"
  }
 },
 "nbformat": 4,
 "nbformat_minor": 2
}
